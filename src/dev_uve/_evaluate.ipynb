{
 "cells": [
  {
   "cell_type": "code",
   "execution_count": null,
   "id": "0",
   "metadata": {},
   "outputs": [],
   "source": [
    "import numpy as np\n",
    "import pandas as pd\n",
    "import re\n",
    "import sympy as sp\n",
    "from ssb_coefficient_maker import FormulaEvaluator"
   ]
  },
  {
   "cell_type": "code",
   "execution_count": null,
   "id": "1",
   "metadata": {},
   "outputs": [],
   "source": [
    "A = pd.DataFrame(np.array([[1, 2], [3, 4]]))\n",
    "B = pd.DataFrame(np.array([[5, 6], [7, 8]]))\n",
    "C = pd.DataFrame(np.array([[3, 9], [1, 2]]))\n",
    "\n",
    "\n",
    "data_dict = {}\n",
    "data_dict['A'] = A\n",
    "data_dict['B'] = B\n",
    "data_dict['C'] = C\n",
    "\n",
    "evaluator = FormulaEvaluator(data_dict)"
   ]
  },
  {
   "cell_type": "code",
   "execution_count": null,
   "id": "2",
   "metadata": {},
   "outputs": [],
   "source": [
    "formelstring = 'A/(B-C)'"
   ]
  },
  {
   "cell_type": "code",
   "execution_count": null,
   "id": "3",
   "metadata": {},
   "outputs": [],
   "source": [
    "def _evaluate(formula_str: str):\n",
    "    pattern = r'([+*-/])'\n",
    "    \n",
    "    \n",
    "    if re.split(pattern, formula_str)[1] in ['+','-','*','/']:\n",
    "        operator = re.split(pattern, formula_str)[1]\n",
    "    else:\n",
    "        print(\"Not a valid formula.\")\n",
    "        \n",
    "    \n",
    "    print(operator)"
   ]
  },
  {
   "cell_type": "code",
   "execution_count": null,
   "id": "4",
   "metadata": {},
   "outputs": [],
   "source": [
    "B"
   ]
  },
  {
   "cell_type": "code",
   "execution_count": null,
   "id": "5",
   "metadata": {},
   "outputs": [],
   "source": [
    "C"
   ]
  },
  {
   "cell_type": "code",
   "execution_count": null,
   "id": "6",
   "metadata": {},
   "outputs": [],
   "source": [
    "B-C"
   ]
  },
  {
   "cell_type": "code",
   "execution_count": null,
   "id": "7",
   "metadata": {},
   "outputs": [],
   "source": [
    "delt_opp_paranteser = [elem for elem in re.split(r'[()]', formelstring) if elem != '']\n",
    "\n",
    "delt_opp_paranteser"
   ]
  },
  {
   "cell_type": "code",
   "execution_count": null,
   "id": "8",
   "metadata": {},
   "outputs": [],
   "source": [
    "for deler in delt_opp_paranteser:\n",
    "    print([part for part in re.split(pattern, parsed) if part != ''])\n",
    "    for ind in [part for part in re.split(pattern, parsed) if part != '']:\n",
    "        print(parsed.index(f'{ind}'))"
   ]
  },
  {
   "cell_type": "code",
   "execution_count": null,
   "id": "9",
   "metadata": {},
   "outputs": [],
   "source": [
    "for parsed in delt_opp_paranteser:\n",
    "    print(parsed)\n",
    "    print(delt_opp_paranteser.index(f'{parsed}'))\n",
    "    print([part for part in re.split(pattern, parsed) if part != ''])\n",
    "    index_dict = {}\n",
    "    for ind in [part for part in re.split(pattern, parsed) if part != '']:\n",
    "        index_dict[f'{ind}_index'] = parsed.index(f'{ind}')\n",
    "        print(index_dict[f'{ind}_index'])\n",
    "        \n"
   ]
  },
  {
   "cell_type": "code",
   "execution_count": null,
   "id": "10",
   "metadata": {},
   "outputs": [],
   "source": [
    "for parsed in delt_opp_paranteser:\n",
    "    pattern = r'([+*-/])'\n",
    "    try:\n",
    "        parantes1 = evaluator.evaluate_formula(parsed)\n",
    "        print(f'Parantes evaluert blir \\n {parantes1}')\n",
    "    except SyntaxError:\n",
    "        # print([part_non_parenthesis for part_non_parenthesis in re.split(pattern, parsed) if part_non_parenthesis != ''])\n",
    "        for part_non_parenthesis in [part_non_parenthesis for part_non_parenthesis in re.split(pattern, parsed) if part_non_parenthesis != '']:\n",
    "            # print(part_non_parenthesis)\n",
    "            try:\n",
    "                var_non_parenthesis = evaluator.evaluate_formula(part_non_parenthesis)\n",
    "                print(f'Her er evaluert av {part_non_parenthesis}: \\n{var_non_parenthesis}')\n",
    "            except SyntaxError:\n",
    "                if part_non_parenthesis in ['+','-','*','/']:\n",
    "                    operator = part_non_parenthesis\n",
    "                else:\n",
    "                    raise ValueError('Not a valid formula.')\n",
    "\n",
    "        \n",
    "        # forste_ikke_i_parantes = \n",
    "        # parsed[0] @ np.linalg.inv(parantes1)"
   ]
  },
  {
   "cell_type": "code",
   "execution_count": null,
   "id": "11",
   "metadata": {},
   "outputs": [],
   "source": [
    "for parsed in [elem for elem in re.split(r'[()]', formelstring) if elem != '']:\n",
    "    try:\n",
    "        parantes1 = evaluator.evaluate_formula(parsed) \n",
    "        print(evaluator.evaluate_formula(parsed))\n",
    "    except SyntaxError:\n",
    "        if re.split(pattern, parsed)[1] =='/':\n",
    "            parsed[0] @ np.linalg.inv(parantes1)"
   ]
  },
  {
   "cell_type": "code",
   "execution_count": null,
   "id": "12",
   "metadata": {},
   "outputs": [],
   "source": []
  },
  {
   "cell_type": "code",
   "execution_count": null,
   "id": "13",
   "metadata": {},
   "outputs": [],
   "source": [
    "[index for index, value in enumerate(re.split(pattern, formelstring)) if value in ['+','-','*','/']]\n"
   ]
  },
  {
   "cell_type": "code",
   "execution_count": null,
   "id": "14",
   "metadata": {},
   "outputs": [],
   "source": [
    "re.split(pattern, formelstring)[index for index, value in enumerate(re.split(pattern, formelstring)) if value in ['+','-','*','/']]\n"
   ]
  },
  {
   "cell_type": "code",
   "execution_count": null,
   "id": "15",
   "metadata": {},
   "outputs": [],
   "source": [
    "eval(formula_str, {\"A\": A, \"B\": B})"
   ]
  },
  {
   "cell_type": "code",
   "execution_count": null,
   "id": "16",
   "metadata": {},
   "outputs": [],
   "source": [
    "# Define symbolic matrices\n",
    "A = sp.MatrixSymbol('A', 2, 2)  # A 2x2 matrix symbol\n",
    "B = sp.MatrixSymbol('B', 2, 2)  # Another 2x2 matrix symbol\n",
    "\n",
    "# Define a symbolic formula using the matrices\n",
    "formula = A * B + A.T  # Example formula: A * B + transpose of A\n",
    "\n",
    "# Display the formula\n",
    "# sp.pprint(formula)\n",
    "\n",
    "# To evaluate the formula with specific matrices, substitute the symbols with actual matrices\n",
    "A_val = sp.Matrix([[1, 2], [3, 4]])\n",
    "B_val = sp.Matrix([[5, 6], [7, 8]])\n",
    "\n",
    "# Substitute the values into the formula\n",
    "result = formula.subs({A: A_val, B: B_val})\n",
    "\n",
    "# Display the result\n",
    "print(result)\n"
   ]
  },
  {
   "cell_type": "code",
   "execution_count": null,
   "id": "17",
   "metadata": {},
   "outputs": [],
   "source": [
    "# Step 1: Define string representations of matrices\n",
    "A_str = 'Matrix([[1, 2], [3, 4]])'\n",
    "B_str = 'Matrix([[5, 6], [7, 8]])'\n",
    "\n",
    "# Step 2: Parse the string representations into SymPy matrices\n",
    "A = eval(A_str, {\"Matrix\": sp.Matrix})\n",
    "B = eval(B_str, {\"Matrix\": sp.Matrix})\n",
    "\n",
    "# Step 3: Define a string formula using the matrices\n",
    "formula_str = 'A * B + A.T'\n",
    "\n",
    "# Step 4: Parse the string formula into a SymPy expression\n",
    "formula = eval(formula_str, {\"A\": A, \"B\": B})\n",
    "\n",
    "# Step 5: Evaluate the formula\n",
    "result = formula\n",
    "\n",
    "# Display the result\n",
    "print(\"Evaluated Result:\\n\", result)\n"
   ]
  },
  {
   "cell_type": "code",
   "execution_count": null,
   "id": "18",
   "metadata": {},
   "outputs": [],
   "source": [
    "# pattern = r'[+*-/]'\n",
    "pattern = r'([+*-/])'\n",
    "test_str = 'apple/( banana- orange) '\n",
    "\n",
    "formel_dict = {}\n",
    "formel_dict['formel1'] = test_str\n",
    "\n",
    "for formel in formel_dict:\n",
    "    nyformel = formel.replace(\" \",\"\")\n",
    "    print(nyformel)\n",
    "\n"
   ]
  },
  {
   "cell_type": "code",
   "execution_count": null,
   "id": "19",
   "metadata": {},
   "outputs": [],
   "source": [
    "test_dict"
   ]
  },
  {
   "cell_type": "code",
   "execution_count": null,
   "id": "20",
   "metadata": {},
   "outputs": [],
   "source": [
    "print(\n",
    "    # re.split(pattern, \"apple-banana\"),\n",
    "    # re.split(pattern, \"apple+banana\"),\n",
    "    # re.split(pattern, \"apple*banana\"),\n",
    "    \n",
    "    re.split(r\"[()]\", test_str),\n",
    "    re.split(pattern, test_str)\n",
    "     )"
   ]
  },
  {
   "cell_type": "code",
   "execution_count": null,
   "id": "21",
   "metadata": {},
   "outputs": [],
   "source": []
  },
  {
   "cell_type": "code",
   "execution_count": null,
   "id": "22",
   "metadata": {},
   "outputs": [],
   "source": [
    "if re.split(pattern, \"apple/banana\")[1] == '/':\n",
    "    print('hei')"
   ]
  },
  {
   "cell_type": "code",
   "execution_count": null,
   "id": "23",
   "metadata": {},
   "outputs": [],
   "source": [
    "test_str = 'A / (B+ C)'\n",
    "\n",
    "formula_dict = {}\n",
    "\n",
    "formula_dict['formel_1'] = test_str"
   ]
  },
  {
   "cell_type": "code",
   "execution_count": null,
   "id": "24",
   "metadata": {},
   "outputs": [],
   "source": []
  },
  {
   "cell_type": "code",
   "execution_count": null,
   "id": "25",
   "metadata": {},
   "outputs": [],
   "source": [
    "\n",
    "A = np.array([[1, 2], [3, 4]])\n",
    "B = np.array([[5, 6], [7, 8]])\n",
    "\n",
    "# Check if the matrix is invertible\n",
    "if np.linalg.det(A) != 0:\n",
    "    # Invert the matrix\n",
    "    A_inv = np.linalg.inv(A)\n",
    "\n",
    "    result = np.dot(A_inv, B)\n",
    "else:\n",
    "    print(\"Matrix A is not invertible.\")\n"
   ]
  },
  {
   "cell_type": "code",
   "execution_count": null,
   "id": "26",
   "metadata": {},
   "outputs": [],
   "source": [
    "for formel in formula_dict:\n",
    "    try:\n",
    "        formel.split('/')\n",
    "    except '/'.isin(formel):\n",
    "        pass"
   ]
  },
  {
   "cell_type": "code",
   "execution_count": null,
   "id": "27",
   "metadata": {},
   "outputs": [],
   "source": [
    "'A / (B+ C)'.split('/')"
   ]
  },
  {
   "cell_type": "code",
   "execution_count": null,
   "id": "28",
   "metadata": {},
   "outputs": [],
   "source": [
    "'/'.isin.(\"A / (B+ C)\")"
   ]
  },
  {
   "cell_type": "code",
   "execution_count": null,
   "id": "29",
   "metadata": {},
   "outputs": [],
   "source": [
    "'A / (B+ C)'.split('/')[1]"
   ]
  },
  {
   "cell_type": "code",
   "execution_count": null,
   "id": "30",
   "metadata": {},
   "outputs": [],
   "source": []
  },
  {
   "cell_type": "code",
   "execution_count": null,
   "id": "31",
   "metadata": {},
   "outputs": [],
   "source": []
  }
 ],
 "metadata": {
  "language_info": {
   "codemirror_mode": {
    "name": "ipython"
   },
   "file_extension": ".py",
   "mimetype": "text/x-python",
   "name": "python",
   "nbconvert_exporter": "python"
  }
 },
 "nbformat": 4,
 "nbformat_minor": 5
}
