{
 "cells": [
  {
   "cell_type": "code",
   "execution_count": null,
   "id": "0",
   "metadata": {},
   "outputs": [],
   "source": [
    "import numpy as np\n",
    "import re\n"
   ]
  },
  {
   "cell_type": "code",
   "execution_count": null,
   "id": "1",
   "metadata": {},
   "outputs": [],
   "source": [
    "def _evaluate(formula_str: str, matrise1: np.matrix):\n",
    "    pattern = r'([+*-/])'\n",
    "    for operator_option in ['+','-','*','/']:\n",
    "        if re.split(pattern, formula_str)[1] == operator_option:\n",
    "            operator = re.split(pattern, formula_str)[1]\n",
    "        else:\n",
    "            pass\n",
    "    print(operator)\n",
    "    print(matrise1)"
   ]
  },
  {
   "cell_type": "code",
   "execution_count": null,
   "id": "2",
   "metadata": {},
   "outputs": [],
   "source": [
    "_evaluate(\"A/B\", A)"
   ]
  },
  {
   "cell_type": "code",
   "execution_count": null,
   "id": "3",
   "metadata": {},
   "outputs": [],
   "source": [
    "A = np.array([[1, 2], [3, 4]])\n",
    "B = np.array([[5, 6], [7, 8]])"
   ]
  },
  {
   "cell_type": "code",
   "execution_count": null,
   "id": "4",
   "metadata": {},
   "outputs": [],
   "source": []
  },
  {
   "cell_type": "code",
   "execution_count": null,
   "id": "5",
   "metadata": {},
   "outputs": [],
   "source": [
    "\n",
    "A = np.array([[1, 2], [3, 4]])\n",
    "B = np.array([[5, 6], [7, 8]])\n",
    "\n",
    "# Check if the matrix is invertible\n",
    "if np.linalg.det(A) != 0:\n",
    "    # Invert the matrix\n",
    "    A_inv = np.linalg.inv(A)\n",
    "    print(\"Inverted Matrix:\\n\", A_inv)\n",
    "\n",
    "    result = np.dot(A_inv, B)\n",
    "    print(\"Result of Multiplication:\\n\", result)\n",
    "else:\n",
    "    print(\"Matrix A is not invertible.\")\n"
   ]
  },
  {
   "cell_type": "code",
   "execution_count": null,
   "id": "6",
   "metadata": {},
   "outputs": [],
   "source": [
    "\n",
    "\n",
    "# Define the pattern for splitting\n",
    "# pattern = r'[+*-/]'\n",
    "pattern = r'([+*-/])'\n",
    "\n",
    "\n",
    "# Print the result\n",
    "print(\n",
    "    re.split(pattern, \"apple-banana\"),\n",
    "    re.split(pattern, \"apple+banana\"),\n",
    "    re.split(pattern, \"apple*banana\"),\n",
    "    re.split(pattern, \"apple/banana\")\n",
    "     )\n"
   ]
  },
  {
   "cell_type": "code",
   "execution_count": null,
   "id": "7",
   "metadata": {},
   "outputs": [],
   "source": [
    "if re.split(pattern, \"apple/banana\")[1] == '/':\n",
    "    print('hei')"
   ]
  },
  {
   "cell_type": "code",
   "execution_count": null,
   "id": "8",
   "metadata": {},
   "outputs": [],
   "source": [
    "test_str = 'A / (B+ C)'\n",
    "\n",
    "formula_dict = {}\n",
    "\n",
    "formula_dict['formel_1'] = test_str"
   ]
  },
  {
   "cell_type": "code",
   "execution_count": null,
   "id": "9",
   "metadata": {},
   "outputs": [],
   "source": []
  },
  {
   "cell_type": "code",
   "execution_count": null,
   "id": "10",
   "metadata": {},
   "outputs": [],
   "source": [
    "for formel in formula_dict:\n",
    "    try:\n",
    "        formel.split('/')\n",
    "    except '/'.isin(formel):\n",
    "        pass"
   ]
  },
  {
   "cell_type": "code",
   "execution_count": null,
   "id": "11",
   "metadata": {},
   "outputs": [],
   "source": [
    "'A / (B+ C)'.split('/')"
   ]
  },
  {
   "cell_type": "code",
   "execution_count": null,
   "id": "12",
   "metadata": {},
   "outputs": [],
   "source": [
    "'/'.isin.(\"A / (B+ C)\")"
   ]
  },
  {
   "cell_type": "code",
   "execution_count": null,
   "id": "13",
   "metadata": {},
   "outputs": [],
   "source": [
    "'A / (B+ C)'.split('/')[1]"
   ]
  },
  {
   "cell_type": "code",
   "execution_count": null,
   "id": "14",
   "metadata": {},
   "outputs": [],
   "source": []
  },
  {
   "cell_type": "code",
   "execution_count": null,
   "id": "15",
   "metadata": {},
   "outputs": [],
   "source": []
  }
 ],
 "metadata": {
  "language_info": {
   "codemirror_mode": {
    "name": "ipython"
   },
   "file_extension": ".py",
   "mimetype": "text/x-python",
   "name": "python",
   "nbconvert_exporter": "python"
  }
 },
 "nbformat": 4,
 "nbformat_minor": 5
}
